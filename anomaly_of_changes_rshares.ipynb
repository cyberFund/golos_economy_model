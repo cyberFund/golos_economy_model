{
 "cells": [
  {
   "cell_type": "code",
   "execution_count": 20,
   "metadata": {
    "scrolled": false
   },
   "outputs": [
    {
     "name": "stdout",
     "output_type": "stream",
     "text": [
      "{'time': '2018-01-25T09:15:57', 'percent': 10000, 'rshares': '105679720415', 'reputation': 0, 'voter': 'groovybear', 'weight': '3394607794953842'}\n"
     ]
    }
   ],
   "source": [
    "from pistonapi.steemnoderpc import SteemNodeRPC\n",
    "\n",
    "rpc = SteemNodeRPC(\"wss://ws.golos.io\", apis=[\"follow\", \"database\"]) \n",
    "# rpc = SteemNodeRPC(\"ws://localhost:8090\", apis=[\"follow\", \"database\"])\n",
    "\n",
    "active_votes = rpc.get_content('aleco','kriptoinvestor-wings-proizveli-vyplatu-nagrad-po-prognozam-bitjob')['active_votes']\n",
    "\n",
    "for item in active_votes:\n",
    "    if item['voter']=='groovybear': print(item)"
   ]
  },
  {
   "cell_type": "code",
   "execution_count": 21,
   "metadata": {},
   "outputs": [
    {
     "name": "stdout",
     "output_type": "stream",
     "text": [
      "{'time': '2018-01-25T09:45:03', 'percent': 10000, 'rshares': '105679720415', 'reputation': 0, 'voter': 'groovybear', 'weight': '44114325497604489'}\n"
     ]
    }
   ],
   "source": [
    "from pistonapi.steemnoderpc import SteemNodeRPC\n",
    "\n",
    "rpc = SteemNodeRPC(\"wss://ws.golos.io\", apis=[\"follow\", \"database\"]) \n",
    "# rpc = SteemNodeRPC(\"ws://localhost:8090\", apis=[\"follow\", \"database\"])\n",
    "\n",
    "active_votes = rpc.get_content('jaath','minfin-proekt-zakona-o-cifrovykh-finansovykh-aktivakh')['active_votes']\n",
    "\n",
    "for item in active_votes:\n",
    "    if item['voter']=='groovybear': print(item)"
   ]
  },
  {
   "cell_type": "code",
   "execution_count": 22,
   "metadata": {},
   "outputs": [
    {
     "name": "stdout",
     "output_type": "stream",
     "text": [
      "{'time': '2018-01-25T09:47:33', 'percent': 10000, 'rshares': '105679720415', 'reputation': 0, 'voter': 'groovybear', 'weight': '19275222451919855'}\n"
     ]
    }
   ],
   "source": [
    "from pistonapi.steemnoderpc import SteemNodeRPC\n",
    "\n",
    "rpc = SteemNodeRPC(\"wss://ws.golos.io\", apis=[\"follow\", \"database\"]) \n",
    "# rpc = SteemNodeRPC(\"ws://localhost:8090\", apis=[\"follow\", \"database\"])\n",
    "\n",
    "active_votes = rpc.get_content('evrey4ik','kitaij-gde-avtoproizvoditelyam-zhitx-khorosho')['active_votes']\n",
    "\n",
    "for item in active_votes:\n",
    "    if item['voter']=='groovybear': print(item)"
   ]
  },
  {
   "cell_type": "code",
   "execution_count": 30,
   "metadata": {},
   "outputs": [
    {
     "name": "stdout",
     "output_type": "stream",
     "text": [
      "{'time': '2018-01-26T15:33:24', 'percent': 5000, 'rshares': '52839860207', 'reputation': 0, 'voter': 'groovybear', 'weight': 0}\n"
     ]
    }
   ],
   "source": [
    "from pistonapi.steemnoderpc import SteemNodeRPC\n",
    "\n",
    "rpc = SteemNodeRPC(\"wss://ws.golos.io\", apis=[\"follow\", \"database\"]) \n",
    "# rpc = SteemNodeRPC(\"ws://localhost:8090\", apis=[\"follow\", \"database\"])\n",
    "\n",
    "active_votes = rpc.get_content('zavodfoto','gde-nachinaetsya-belaya-metallurgiya')['active_votes']\n",
    "\n",
    "for item in active_votes:\n",
    "    if item['voter']=='groovybear': print(item)"
   ]
  },
  {
   "cell_type": "code",
   "execution_count": 25,
   "metadata": {},
   "outputs": [
    {
     "data": {
      "text/plain": [
       "18470296.164327346"
      ]
     },
     "execution_count": 25,
     "metadata": {},
     "output_type": "execute_result"
    }
   ],
   "source": [
    "105679720415/5721.604"
   ]
  },
  {
   "cell_type": "code",
   "execution_count": 31,
   "metadata": {},
   "outputs": [
    {
     "data": {
      "text/plain": [
       "105679720414"
      ]
     },
     "execution_count": 31,
     "metadata": {},
     "output_type": "execute_result"
    }
   ],
   "source": [
    "52839860207*2"
   ]
  },
  {
   "cell_type": "code",
   "execution_count": 32,
   "metadata": {},
   "outputs": [
    {
     "name": "stdout",
     "output_type": "stream",
     "text": [
      "{'time': '2018-01-26T15:35:03', 'percent': 5000, 'rshares': '52839860207', 'reputation': 0, 'voter': 'groovybear', 'weight': '57311263511863919'}\n"
     ]
    }
   ],
   "source": [
    "from pistonapi.steemnoderpc import SteemNodeRPC\n",
    "\n",
    "rpc = SteemNodeRPC(\"wss://ws.golos.io\", apis=[\"follow\", \"database\"]) \n",
    "# rpc = SteemNodeRPC(\"ws://localhost:8090\", apis=[\"follow\", \"database\"])\n",
    "\n",
    "active_votes = rpc.get_content('thecoinshark','souchreditel-apple-stiv-voznyak-prodal-vse-svoi-bitkoiny')['active_votes']\n",
    "\n",
    "for item in active_votes:\n",
    "    if item['voter']=='groovybear': print(item)"
   ]
  },
  {
   "cell_type": "code",
   "execution_count": null,
   "metadata": {},
   "outputs": [],
   "source": []
  }
 ],
 "metadata": {
  "kernelspec": {
   "display_name": "Python 3",
   "language": "python",
   "name": "python3"
  },
  "language_info": {
   "codemirror_mode": {
    "name": "ipython",
    "version": 3
   },
   "file_extension": ".py",
   "mimetype": "text/x-python",
   "name": "python",
   "nbconvert_exporter": "python",
   "pygments_lexer": "ipython3",
   "version": "3.5.2"
  }
 },
 "nbformat": 4,
 "nbformat_minor": 2
}
