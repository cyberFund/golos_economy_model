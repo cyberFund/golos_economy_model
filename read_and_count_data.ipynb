{
 "cells": [
  {
   "cell_type": "code",
   "execution_count": 1,
   "metadata": {},
   "outputs": [],
   "source": [
    "from pymongo import MongoClient\n",
    "import numpy as np\n",
    "import pandas as pd"
   ]
  },
  {
   "cell_type": "code",
   "execution_count": 2,
   "metadata": {},
   "outputs": [],
   "source": [
    "client = MongoClient(\"localhost:27017\")\n",
    "database = client[\"steemdb\"]\n",
    "collection = database[\"comment\"]"
   ]
  },
  {
   "cell_type": "code",
   "execution_count": 3,
   "metadata": {},
   "outputs": [],
   "source": [
    "query = {}\n",
    "\n",
    "cursor = collection.find({\n",
    "    \"depth\" : 0.0\n",
    "}, {\n",
    "    \"reward_weight\" : 1.0,\n",
    "    \"net_votes\" : 1.0,\n",
    "    \"total_payout_value\" : 1.0,\n",
    "    \"root_comment\" : 1.0,\n",
    "       \n",
    "})"
   ]
  },
  {
   "cell_type": "code",
   "execution_count": 4,
   "metadata": {},
   "outputs": [
    {
     "data": {
      "text/html": [
       "<div>\n",
       "<style scoped>\n",
       "    .dataframe tbody tr th:only-of-type {\n",
       "        vertical-align: middle;\n",
       "    }\n",
       "\n",
       "    .dataframe tbody tr th {\n",
       "        vertical-align: top;\n",
       "    }\n",
       "\n",
       "    .dataframe thead th {\n",
       "        text-align: right;\n",
       "    }\n",
       "</style>\n",
       "<table border=\"1\" class=\"dataframe\">\n",
       "  <thead>\n",
       "    <tr style=\"text-align: right;\">\n",
       "      <th></th>\n",
       "      <th>_id</th>\n",
       "      <th>net_votes</th>\n",
       "      <th>reward_weight</th>\n",
       "      <th>root_comment</th>\n",
       "      <th>total_payout_value</th>\n",
       "    </tr>\n",
       "  </thead>\n",
       "  <tbody>\n",
       "    <tr>\n",
       "      <th>0</th>\n",
       "      <td>hipster/post-dobra</td>\n",
       "      <td>11</td>\n",
       "      <td>10000</td>\n",
       "      <td>0</td>\n",
       "      <td>0.000</td>\n",
       "    </tr>\n",
       "    <tr>\n",
       "      <th>1</th>\n",
       "      <td>lehard/poekhali-rebyata</td>\n",
       "      <td>7</td>\n",
       "      <td>10000</td>\n",
       "      <td>1</td>\n",
       "      <td>0.000</td>\n",
       "    </tr>\n",
       "    <tr>\n",
       "      <th>2</th>\n",
       "      <td>primus/nastroika-nod-mainera-i-delegata-dlya-r...</td>\n",
       "      <td>87</td>\n",
       "      <td>10000</td>\n",
       "      <td>2</td>\n",
       "      <td>125.818</td>\n",
       "    </tr>\n",
       "    <tr>\n",
       "      <th>3</th>\n",
       "      <td>mshrmv/sos-help-srochno-nuzhna-pomosh</td>\n",
       "      <td>3</td>\n",
       "      <td>10000</td>\n",
       "      <td>3</td>\n",
       "      <td>0.000</td>\n",
       "    </tr>\n",
       "    <tr>\n",
       "      <th>4</th>\n",
       "      <td>lehard/bez-paniki-khronika-sobytii-i-podrobnos...</td>\n",
       "      <td>16</td>\n",
       "      <td>10000</td>\n",
       "      <td>4</td>\n",
       "      <td>0.000</td>\n",
       "    </tr>\n",
       "  </tbody>\n",
       "</table>\n",
       "</div>"
      ],
      "text/plain": [
       "                                                 _id net_votes reward_weight  \\\n",
       "0                                 hipster/post-dobra        11         10000   \n",
       "1                            lehard/poekhali-rebyata         7         10000   \n",
       "2  primus/nastroika-nod-mainera-i-delegata-dlya-r...        87         10000   \n",
       "3              mshrmv/sos-help-srochno-nuzhna-pomosh         3         10000   \n",
       "4  lehard/bez-paniki-khronika-sobytii-i-podrobnos...        16         10000   \n",
       "\n",
       "  root_comment  total_payout_value  \n",
       "0            0               0.000  \n",
       "1            1               0.000  \n",
       "2            2             125.818  \n",
       "3            3               0.000  \n",
       "4            4               0.000  "
      ]
     },
     "execution_count": 4,
     "metadata": {},
     "output_type": "execute_result"
    }
   ],
   "source": [
    "comment_df = pd.DataFrame(columns=['reward_weight', 'total_payout_value','net_votes', 'root_comment'])\n",
    "for comment in cursor:\n",
    "    comment_df = comment_df.append(pd.DataFrame(comment, index=[len(comment_df)]))\n",
    "comment_df.head()"
   ]
  },
  {
   "cell_type": "code",
   "execution_count": 39,
   "metadata": {},
   "outputs": [],
   "source": [
    "pd.set_option('precision', 3)"
   ]
  },
  {
   "cell_type": "code",
   "execution_count": 40,
   "metadata": {},
   "outputs": [
    {
     "name": "stdout",
     "output_type": "stream",
     "text": [
      "(1666, 6)\n"
     ]
    }
   ],
   "source": [
    "print(comment_df.shape)"
   ]
  },
  {
   "cell_type": "code",
   "execution_count": 45,
   "metadata": {},
   "outputs": [
    {
     "name": "stdout",
     "output_type": "stream",
     "text": [
      "Index(['_id', 'net_votes', 'reward_weight', 'root_comment',\n",
      "       'total_payout_value'],\n",
      "      dtype='object')\n"
     ]
    }
   ],
   "source": [
    "print(comment_df.columns)"
   ]
  },
  {
   "cell_type": "code",
   "execution_count": 32,
   "metadata": {},
   "outputs": [
    {
     "name": "stdout",
     "output_type": "stream",
     "text": [
      "<class 'pandas.core.frame.DataFrame'>\n",
      "Int64Index: 1666 entries, 0 to 1665\n",
      "Data columns (total 4 columns):\n",
      "_id                        1666 non-null object\n",
      "comment_reward_context     0 non-null object\n",
      "reward_weight              1666 non-null object\n",
      "rshares                    0 non-null object\n",
      "dtypes: object(4)\n",
      "memory usage: 65.1+ KB\n",
      "None\n"
     ]
    }
   ],
   "source": [
    "print(comment_df.info())"
   ]
  },
  {
   "cell_type": "code",
   "execution_count": 6,
   "metadata": {},
   "outputs": [],
   "source": [
    "comment_df.to_csv(\"comments3.csv\", index=False)"
   ]
  },
  {
   "cell_type": "code",
   "execution_count": null,
   "metadata": {},
   "outputs": [],
   "source": []
  }
 ],
 "metadata": {
  "kernelspec": {
   "display_name": "Python 3",
   "language": "python",
   "name": "python3"
  },
  "language_info": {
   "codemirror_mode": {
    "name": "ipython",
    "version": 3
   },
   "file_extension": ".py",
   "mimetype": "text/x-python",
   "name": "python",
   "nbconvert_exporter": "python",
   "pygments_lexer": "ipython3",
   "version": "3.5.2"
  }
 },
 "nbformat": 4,
 "nbformat_minor": 2
}
