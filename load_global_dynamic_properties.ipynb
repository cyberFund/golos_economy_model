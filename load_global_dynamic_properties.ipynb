{
 "cells": [
  {
   "cell_type": "code",
   "execution_count": 1,
   "metadata": {},
   "outputs": [],
   "source": [
    "import pandas as pd\n",
    "import numpy as np\n",
    "from datetime import datetime, timedelta\n",
    "import matplotlib.pyplot as plt\n",
    "import matplotlib as mpl\n",
    "import os\n",
    "import json\n",
    "from tqdm import tqdm\n",
    "import csv\n",
    "from collections import OrderedDict\n",
    "%matplotlib inline  "
   ]
  },
  {
   "cell_type": "markdown",
   "metadata": {},
   "source": [
    "### Load file list"
   ]
  },
  {
   "cell_type": "code",
   "execution_count": 49,
   "metadata": {},
   "outputs": [],
   "source": [
    "path = \"/home/earth/golos_16/programs/golosd/witness_node_data_dir/data/dynamic_global_properties/\"\n",
    "file_list = os.listdir(path=path)"
   ]
  },
  {
   "cell_type": "markdown",
   "metadata": {},
   "source": [
    "### Save data from files to csv"
   ]
  },
  {
   "cell_type": "code",
   "execution_count": 2,
   "metadata": {},
   "outputs": [],
   "source": [
    "global_dynamic_properties_file = 'global_dynamic_properties.csv'"
   ]
  },
  {
   "cell_type": "markdown",
   "metadata": {},
   "source": [
    "#### inefficient"
   ]
  },
  {
   "cell_type": "code",
   "execution_count": null,
   "metadata": {},
   "outputs": [],
   "source": [
    "# global_dynamic_properties_df = pd.DataFrame(columns=list(f.keys()))\n",
    "# for i in tqdm(range(len(file_list))):\n",
    "#     f = json.loads(open(path+file_list[i], 'r').read())\n",
    "#     global_dynamic_properties_df = global_dynamic_properties_df.append(pd.DataFrame(f, index=[f['head_block_number']]))   \n",
    "# global_dynamic_properties_df.to_csv(global_dynamic_properties_file)"
   ]
  },
  {
   "cell_type": "markdown",
   "metadata": {},
   "source": [
    "#### efficient"
   ]
  },
  {
   "cell_type": "code",
   "execution_count": null,
   "metadata": {},
   "outputs": [
    {
     "name": "stderr",
     "output_type": "stream",
     "text": [
      "\n",
      "  0%|          | 0/13685035 [00:00<?, ?it/s]\u001b[A\n",
      "  0%|          | 555/13685035 [00:00<41:26, 5503.93it/s]\u001b[A\n",
      "  0%|          | 1311/13685035 [00:00<34:56, 6527.65it/s]\u001b[A\n",
      "  0%|          | 2257/13685035 [00:00<30:24, 7500.62it/s]\u001b[A\n",
      "  0%|          | 3232/13685035 [00:00<28:17, 8062.33it/s]\u001b[A\n",
      "  0%|          | 4206/13685035 [00:00<27:09, 8395.45it/s]\u001b[A\n",
      "  0%|          | 5184/13685035 [00:00<26:26, 8625.33it/s]\u001b[A\n",
      "  0%|          | 6159/13685035 [00:00<25:57, 8783.28it/s]\u001b[A\n",
      "  0%|          | 7146/13685035 [00:00<25:33, 8919.27it/s]\u001b[A\n",
      "  0%|          | 8132/13685035 [00:00<25:15, 9022.44it/s]\u001b[A\n",
      "  0%|          | 9118/13685035 [00:01<25:01, 9105.94it/s]\u001b[A\n",
      "  0%|          | 10149/13685035 [00:01<24:44, 9214.61it/s]\u001b[A\n",
      "  0%|          | 11150/13685035 [00:01<24:33, 9278.12it/s]\u001b[A\n",
      "  0%|          | 12130/13685035 [00:01<30:42, 7421.74it/s]\u001b[A\n",
      "  0%|          | 12884/13685035 [00:01<35:01, 6507.13it/s]\u001b[A\n",
      "  0%|          | 13477/13685035 [00:02<37:31, 6071.75it/s]\u001b[A\n",
      "Exception in thread Thread-4:\n",
      "Traceback (most recent call last):\n",
      "  File \"/usr/lib/python3.5/threading.py\", line 914, in _bootstrap_inner\n",
      "    self.run()\n",
      "  File \"/home/earth/src/tqdm/tqdm/_tqdm.py\", line 144, in run\n",
      "    for instance in self.tqdm_cls._instances:\n",
      "  File \"/usr/lib/python3.5/_weakrefset.py\", line 60, in __iter__\n",
      "    for itemref in self.data:\n",
      "RuntimeError: Set changed size during iteration\n",
      "\n",
      "100%|█████████▉| 13683345/13685035 [1:46:34<00:00, 2140.02it/s]"
     ]
    }
   ],
   "source": [
    "with open(global_dynamic_properties_file, 'a', newline='') as csv_file:\n",
    "    csv_writer = csv.writer(csv_file)\n",
    "    needHeader = 0\n",
    "    if os.path.isfile(global_dynamic_properties_file):\n",
    "        if os.stat(global_dynamic_properties_file).st_size == 0: needHeader = 1\n",
    "    else:\n",
    "        needHeader = 1\n",
    "    for i in tqdm(range(len(file_list))):\n",
    "        global_dynamic_properties_dict = json.loads(open(path+file_list[i], 'r').read())\n",
    "        ordered_item = OrderedDict(sorted(global_dynamic_properties_dict.items(), key=lambda t: t[0]))\n",
    "        if needHeader == 1:\n",
    "            csv_writer.writerow([''.join(str(itemField) + ';' for itemField in list(ordered_item.keys()))[:-1]])\n",
    "            needHeader -= 1\n",
    "        csv_writer.writerow([''.join(str(itemField)+';' for itemField in list(ordered_item.values()))[:-1]])"
   ]
  },
  {
   "cell_type": "markdown",
   "metadata": {},
   "source": [
    "### Load csv"
   ]
  },
  {
   "cell_type": "code",
   "execution_count": 3,
   "metadata": {},
   "outputs": [],
   "source": [
    "global_dynamic_properties_df = pd.read_csv(global_dynamic_properties_file, sep=';', header=0)\n",
    "global_dynamic_properties_df.loc[:,'time'] = pd.to_datetime(global_dynamic_properties_df['time'])"
   ]
  },
  {
   "cell_type": "code",
   "execution_count": 4,
   "metadata": {},
   "outputs": [
    {
     "data": {
      "text/html": [
       "<div>\n",
       "<style>\n",
       "    .dataframe thead tr:only-child th {\n",
       "        text-align: right;\n",
       "    }\n",
       "\n",
       "    .dataframe thead th {\n",
       "        text-align: left;\n",
       "    }\n",
       "\n",
       "    .dataframe tbody tr th {\n",
       "        vertical-align: top;\n",
       "    }\n",
       "</style>\n",
       "<table border=\"1\" class=\"dataframe\">\n",
       "  <thead>\n",
       "    <tr style=\"text-align: right;\">\n",
       "      <th></th>\n",
       "      <th>average_block_size</th>\n",
       "      <th>confidential_sbd_supply</th>\n",
       "      <th>confidential_supply</th>\n",
       "      <th>current_aslot</th>\n",
       "      <th>current_reserve_ratio</th>\n",
       "      <th>current_sbd_supply</th>\n",
       "      <th>current_supply</th>\n",
       "      <th>current_witness</th>\n",
       "      <th>head_block_id</th>\n",
       "      <th>head_block_number</th>\n",
       "      <th>...</th>\n",
       "      <th>sbd_interest_rate</th>\n",
       "      <th>sbd_print_rate</th>\n",
       "      <th>time</th>\n",
       "      <th>total_pow</th>\n",
       "      <th>total_reward_fund_steem</th>\n",
       "      <th>total_reward_shares2</th>\n",
       "      <th>total_vesting_fund_steem</th>\n",
       "      <th>total_vesting_shares</th>\n",
       "      <th>virtual_supply</th>\n",
       "      <th>vote_regeneration_per_day</th>\n",
       "    </tr>\n",
       "  </thead>\n",
       "  <tbody>\n",
       "    <tr>\n",
       "      <th>0</th>\n",
       "      <td>1603</td>\n",
       "      <td>0.000 GBG</td>\n",
       "      <td>0.000 GOLOS</td>\n",
       "      <td>7546744</td>\n",
       "      <td>20000</td>\n",
       "      <td>2801752.373 GBG</td>\n",
       "      <td>124347443.542 GOLOS</td>\n",
       "      <td>phenom</td>\n",
       "      <td>0072e0d6ad23b31e0babf417f150e4f018bd0b00</td>\n",
       "      <td>7528662</td>\n",
       "      <td>...</td>\n",
       "      <td>1000</td>\n",
       "      <td>10000</td>\n",
       "      <td>2017-07-07 11:57:12</td>\n",
       "      <td>364657.0</td>\n",
       "      <td>83272.517 GOLOS</td>\n",
       "      <td>940080196721992315855582311583</td>\n",
       "      <td>96547107.999 GOLOS</td>\n",
       "      <td>367834155924.892963 GESTS</td>\n",
       "      <td>125445730.472 GOLOS</td>\n",
       "      <td>40</td>\n",
       "    </tr>\n",
       "    <tr>\n",
       "      <th>1</th>\n",
       "      <td>528</td>\n",
       "      <td>0.000 GBG</td>\n",
       "      <td>0.000 GOLOS</td>\n",
       "      <td>6222917</td>\n",
       "      <td>20000</td>\n",
       "      <td>1153251.104 GBG</td>\n",
       "      <td>122681557.467 GOLOS</td>\n",
       "      <td>phenom</td>\n",
       "      <td>005ec63c9d9f7d41f18e626a9be6fddcba27bdb6</td>\n",
       "      <td>6211132</td>\n",
       "      <td>...</td>\n",
       "      <td>1000</td>\n",
       "      <td>10000</td>\n",
       "      <td>2017-05-22 12:45:51</td>\n",
       "      <td>299144.0</td>\n",
       "      <td>86361.424 GOLOS</td>\n",
       "      <td>1116798909554226246055859359103</td>\n",
       "      <td>109751300.432 GOLOS</td>\n",
       "      <td>420666656268.438033 GESTS</td>\n",
       "      <td>123558402.517 GOLOS</td>\n",
       "      <td>40</td>\n",
       "    </tr>\n",
       "  </tbody>\n",
       "</table>\n",
       "<p>2 rows × 27 columns</p>\n",
       "</div>"
      ],
      "text/plain": [
       "   average_block_size confidential_sbd_supply confidential_supply  \\\n",
       "0                1603               0.000 GBG         0.000 GOLOS   \n",
       "1                 528               0.000 GBG         0.000 GOLOS   \n",
       "\n",
       "   current_aslot  current_reserve_ratio current_sbd_supply  \\\n",
       "0        7546744                  20000    2801752.373 GBG   \n",
       "1        6222917                  20000    1153251.104 GBG   \n",
       "\n",
       "        current_supply current_witness  \\\n",
       "0  124347443.542 GOLOS          phenom   \n",
       "1  122681557.467 GOLOS          phenom   \n",
       "\n",
       "                              head_block_id  head_block_number  \\\n",
       "0  0072e0d6ad23b31e0babf417f150e4f018bd0b00            7528662   \n",
       "1  005ec63c9d9f7d41f18e626a9be6fddcba27bdb6            6211132   \n",
       "\n",
       "             ...             sbd_interest_rate  sbd_print_rate  \\\n",
       "0            ...                          1000           10000   \n",
       "1            ...                          1000           10000   \n",
       "\n",
       "                 time  total_pow  total_reward_fund_steem  \\\n",
       "0 2017-07-07 11:57:12   364657.0          83272.517 GOLOS   \n",
       "1 2017-05-22 12:45:51   299144.0          86361.424 GOLOS   \n",
       "\n",
       "              total_reward_shares2 total_vesting_fund_steem  \\\n",
       "0   940080196721992315855582311583       96547107.999 GOLOS   \n",
       "1  1116798909554226246055859359103      109751300.432 GOLOS   \n",
       "\n",
       "        total_vesting_shares       virtual_supply vote_regeneration_per_day  \n",
       "0  367834155924.892963 GESTS  125445730.472 GOLOS                        40  \n",
       "1  420666656268.438033 GESTS  123558402.517 GOLOS                        40  \n",
       "\n",
       "[2 rows x 27 columns]"
      ]
     },
     "execution_count": 4,
     "metadata": {},
     "output_type": "execute_result"
    }
   ],
   "source": [
    "global_dynamic_properties_df.head(2)"
   ]
  },
  {
   "cell_type": "code",
   "execution_count": 5,
   "metadata": {},
   "outputs": [
    {
     "data": {
      "text/plain": [
       "average_block_size                                                 1603\n",
       "confidential_sbd_supply                                       0.000 GBG\n",
       "confidential_supply                                         0.000 GOLOS\n",
       "current_aslot                                                   7546744\n",
       "current_reserve_ratio                                             20000\n",
       "current_sbd_supply                                      2801752.373 GBG\n",
       "current_supply                                      124347443.542 GOLOS\n",
       "current_witness                                                  phenom\n",
       "head_block_id                  0072e0d6ad23b31e0babf417f150e4f018bd0b00\n",
       "head_block_number                                               7528662\n",
       "id                                                                    0\n",
       "last_irreversible_block_num                                     7528646\n",
       "max_virtual_bandwidth                               5986734968066277376\n",
       "maximum_block_size                                                65536\n",
       "num_pow_witnesses                                                   172\n",
       "participation_count                                                 128\n",
       "recent_slots_filled             340282366920938463463374607431768211455\n",
       "sbd_interest_rate                                                  1000\n",
       "sbd_print_rate                                                    10000\n",
       "time                                                2017-07-07 11:57:12\n",
       "total_pow                                                        364657\n",
       "total_reward_fund_steem                                 83272.517 GOLOS\n",
       "total_reward_shares2                     940080196721992315855582311583\n",
       "total_vesting_fund_steem                             96547107.999 GOLOS\n",
       "total_vesting_shares                          367834155924.892963 GESTS\n",
       "virtual_supply                                      125445730.472 GOLOS\n",
       "vote_regeneration_per_day                                            40\n",
       "Name: 0, dtype: object"
      ]
     },
     "execution_count": 5,
     "metadata": {},
     "output_type": "execute_result"
    }
   ],
   "source": [
    "global_dynamic_properties_df.loc[0,:]"
   ]
  },
  {
   "cell_type": "code",
   "execution_count": null,
   "metadata": {},
   "outputs": [],
   "source": []
  }
 ],
 "metadata": {
  "kernelspec": {
   "display_name": "Python 3",
   "language": "python",
   "name": "python3"
  },
  "language_info": {
   "codemirror_mode": {
    "name": "ipython",
    "version": 3
   },
   "file_extension": ".py",
   "mimetype": "text/x-python",
   "name": "python",
   "nbconvert_exporter": "python",
   "pygments_lexer": "ipython3",
   "version": "3.5.2"
  }
 },
 "nbformat": 4,
 "nbformat_minor": 2
}
