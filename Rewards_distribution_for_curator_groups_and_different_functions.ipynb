{
 "cells": [
  {
   "cell_type": "code",
   "execution_count": 2,
   "metadata": {},
   "outputs": [],
   "source": [
    "from pymongo import MongoClient\n",
    "import numpy as np\n",
    "import pandas as pd\n",
    "from datetime import datetime, timedelta\n",
    "import time\n",
    "import matplotlib.pyplot as plt\n",
    "import matplotlib as mpl\n",
    "import math\n",
    "from tqdm import tqdm\n",
    "%matplotlib inline"
   ]
  },
  {
   "cell_type": "code",
   "execution_count": 32,
   "metadata": {},
   "outputs": [],
   "source": [
    "client = MongoClient(\"localhost:27017\")\n",
    "database = client[\"golos_comments\"]\n",
    "database_1 = client[\"steemdb_1\"]\n",
    "database_2 = client[\"golos_all_tsx\"]\n",
    "collection_account = database[\"account\"]\n",
    "collection_comment = database[\"comment\"]\n",
    "collection_feed_publish = database_2[\"feed_publish\"]\n",
    "collection_global_properties = database_1[\"global_properties\"]"
   ]
  },
  {
   "cell_type": "markdown",
   "metadata": {},
   "source": [
    "## Constants"
   ]
  },
  {
   "cell_type": "code",
   "execution_count": 3,
   "metadata": {},
   "outputs": [],
   "source": [
    "PERCENT = 10000\n",
    "s = 2000000000000.0\n",
    "precision = 3"
   ]
  },
  {
   "cell_type": "markdown",
   "metadata": {},
   "source": [
    "# Load Data"
   ]
  },
  {
   "cell_type": "markdown",
   "metadata": {},
   "source": [
    "## Load topics from MongoDB"
   ]
  },
  {
   "cell_type": "markdown",
   "metadata": {},
   "source": [
    "Find all comments with nonzero votes"
   ]
  },
  {
   "cell_type": "code",
   "execution_count": 129,
   "metadata": {},
   "outputs": [],
   "source": [
    "comment_df = pd.DataFrame(list(collection_comment.find({'net_votes' :{'$gt':0}\n",
    "                                                        },                                              \n",
    "\n",
    "                                                     {'_id': 1, \n",
    "                                                      'author': 1, \n",
    "                                                      'last_payout': 1, \n",
    "                                                      'reward_weight' : 1,\n",
    "                                                      'net_rshares' : 1,\n",
    "                                                      'net_votes' : 1,\n",
    "                                                      'total_payout_value' : 1,\n",
    "                                                      'curator_payout_value': 1,\n",
    "                                                      'pending_payout_value': 1,\n",
    "                                                      'max_accepted_payout':1,\n",
    "                                                      'root_comment' : 1,\n",
    "                                                      'depth' : 1,\n",
    "                                                      'active_votes':1,\n",
    "                                                      'created':1,\n",
    "                                                     'test':1}\n",
    "                                                     )))"
   ]
  },
  {
   "cell_type": "markdown",
   "metadata": {},
   "source": [
    "Count \n",
    "    - last payout date, \n",
    "    - difference between creation and payout time, \n",
    "    - payout value"
   ]
  },
  {
   "cell_type": "code",
   "execution_count": 130,
   "metadata": {},
   "outputs": [],
   "source": [
    "comment_df['last_payout'] = comment_df['last_payout'].map(lambda x: x if x==x else datetime(2000,1,1))\n",
    "comment_df['last_payout_date'] = comment_df['last_payout'].map(lambda x: x.date())\n",
    "comment_df.loc[:,'delta_payout_time'] = comment_df.apply(lambda x: x['last_payout'] - x['created'], axis=1)\n",
    "comment_df.loc[:,'payout_value'] = comment_df['total_payout_value']+ \\\n",
    "                                   comment_df['curator_payout_value']+ \\\n",
    "                                   comment_df['pending_payout_value']"
   ]
  },
  {
   "cell_type": "markdown",
   "metadata": {},
   "source": [
    "Save weights of each vote from the 1st till the 3rd of February"
   ]
  },
  {
   "cell_type": "code",
   "execution_count": 201,
   "metadata": {},
   "outputs": [],
   "source": [
    "comment_votes_df = comment_df[(comment_df['created']>datetime(2017,11,21)) & \\\n",
    "                              (comment_df['curator_payout_value']>0)]\n",
    "comment_votes_week_df = comment_votes_df[(comment_votes_df['created']>datetime(2018,2,1))& \\\n",
    "                                         (comment_votes_df['created']<datetime(2018,2,3))]\n",
    "new_df_list = []\n",
    "for i in comment_votes_week_df.index:\n",
    "    row = comment_votes_week_df.loc[i,:]\n",
    "    sum_weight = 0\n",
    "    for item in row['active_votes']:\n",
    "        sum_weight+=item['weight']\n",
    "    if sum_weight>0:\n",
    "        for item in row['active_votes']:\n",
    "            new_df_list.append([row['_id'], row['author'], row['created'], row['last_payout'],  item['voter'], item['weight']/sum_weight])\n",
    "curators_df = pd.DataFrame(data=new_df_list, columns=['_id', 'author', 'created', 'last_payout', 'voter', 'weight'])"
   ]
  },
  {
   "cell_type": "markdown",
   "metadata": {},
   "source": [
    "Add info about rshares calculated with alternative functions"
   ]
  },
  {
   "cell_type": "code",
   "execution_count": 202,
   "metadata": {},
   "outputs": [],
   "source": [
    "alternative_comment_df = pd.read_csv(\"comments_with_alternative_rshares.csv\")"
   ]
  },
  {
   "cell_type": "code",
   "execution_count": 203,
   "metadata": {},
   "outputs": [],
   "source": [
    "alternative_comment_df[\"_id\"] = alternative_comment_df[\"author\"] + \"/\" + alternative_comment_df[\"permlink\"]"
   ]
  },
  {
   "cell_type": "code",
   "execution_count": 204,
   "metadata": {},
   "outputs": [],
   "source": [
    "alternative_comment_df = alternative_comment_df.drop([\"payout_value\"], axis=1)"
   ]
  },
  {
   "cell_type": "code",
   "execution_count": 205,
   "metadata": {},
   "outputs": [],
   "source": [
    "merged_comment_df = pd.merge(comment_df, alternative_comment_df, left_on=\"_id\", right_on=\"_id\", how=\"inner\")"
   ]
  },
  {
   "cell_type": "markdown",
   "metadata": {},
   "source": [
    "Count coefficient of curators reward for each comment"
   ]
  },
  {
   "cell_type": "code",
   "execution_count": 206,
   "metadata": {},
   "outputs": [],
   "source": [
    "merged_comment_df[\"curators_coefficient\"] = merged_comment_df[\"curator_payout_value\"] / merged_comment_df[\"payout_value\"]\n",
    "merged_comment_df[\"curators_coefficient\"] = merged_comment_df[\"curators_coefficient\"].fillna(0)"
   ]
  },
  {
   "cell_type": "markdown",
   "metadata": {},
   "source": [
    "Add info about categories of curators"
   ]
  },
  {
   "cell_type": "code",
   "execution_count": 207,
   "metadata": {},
   "outputs": [],
   "source": [
    "authors = pd.read_csv(\"all_cat.csv\")"
   ]
  },
  {
   "cell_type": "code",
   "execution_count": 208,
   "metadata": {},
   "outputs": [],
   "source": [
    "authors = authors[[\"cat\", \"author\"]].drop_duplicates()"
   ]
  },
  {
   "cell_type": "code",
   "execution_count": 216,
   "metadata": {},
   "outputs": [],
   "source": [
    "rewards_with_curators = pd.merge(curators_df, authors, left_on=\"voter\", right_on=\"author\", how=\"right\")"
   ]
  },
  {
   "cell_type": "code",
   "execution_count": 217,
   "metadata": {},
   "outputs": [],
   "source": [
    "rewards_with_curators_and_coefficients = pd.merge(\n",
    "    rewards_with_curators[[\"_id\", \"voter\", \"weight\", \"cat\"]], \n",
    "    merged_comment_df[[\n",
    "        \"_id\", \n",
    "        \"curators_coefficient\", \n",
    "        'payout_rshares2', \n",
    "        'payout_rshares_linear', \n",
    "        'payout_rshares15', \n",
    "        'payout_rshares2_2', \n",
    "        \"payout_rshares_compose\"\n",
    "    ]], \n",
    "    left_on=\"_id\", \n",
    "    right_on=\"_id\", \n",
    "    how=\"left\"\n",
    ")"
   ]
  },
  {
   "cell_type": "code",
   "execution_count": 218,
   "metadata": {},
   "outputs": [],
   "source": [
    "rewards_with_curators_and_coefficients[\"curators_coefficient\"] = rewards_with_curators_and_coefficients[\"curators_coefficient\"].fillna(0)"
   ]
  },
  {
   "cell_type": "code",
   "execution_count": 219,
   "metadata": {},
   "outputs": [],
   "source": [
    "rewards_with_curators_and_coefficients[\"cat\"] = rewards_with_curators_and_coefficients[\"cat\"].fillna(\"Независимые авторы\")"
   ]
  },
  {
   "cell_type": "markdown",
   "metadata": {},
   "source": [
    "Count payout for each curator according the weight of his vote"
   ]
  },
  {
   "cell_type": "code",
   "execution_count": 220,
   "metadata": {},
   "outputs": [],
   "source": [
    "for f in ['rshares2', \n",
    "          'rshares_linear', \n",
    "          'rshares15', \n",
    "          'rshares2_2', \n",
    "          \"rshares_compose\"]:\n",
    "    rewards_with_curators_and_coefficients['curator_payout_' + f] = rewards_with_curators_and_coefficients['payout_' + f]*rewards_with_curators_and_coefficients['curators_coefficient'] *rewards_with_curators_and_coefficients['weight'] "
   ]
  },
  {
   "cell_type": "markdown",
   "metadata": {},
   "source": [
    "Find a distribution of rewards calculated with different rshares functions by curator groups"
   ]
  },
  {
   "cell_type": "code",
   "execution_count": 221,
   "metadata": {},
   "outputs": [],
   "source": [
    "stacked_df = rewards_with_curators_and_coefficients.fillna(0).groupby(\"cat\")[['curator_payout_' + x for x in ['rshares2', 'rshares_linear', 'rshares15', 'rshares2_2', \"rshares_compose\"]]].sum()"
   ]
  },
  {
   "cell_type": "code",
   "execution_count": 222,
   "metadata": {},
   "outputs": [
    {
     "data": {
      "image/png": "[encoded data removed]",
      "text/plain": [
       "<matplotlib.figure.Figure at 0x7fb672db0eb8>"
      ]
     },
     "metadata": {},
     "output_type": "display_data"
    }
   ],
   "source": [
    "mpl.rcParams['figure.figsize'] = (18.0, 9.0)\n",
    "plt.rcParams.update({'font.size': 16})\n",
    "plot = (stacked_df / stacked_df.sum()).T.plot(kind='bar', stacked=True, figsize=(15, 10))\n",
    "plt.title(\"Распределение вознаграждений по группам кураторов при различных функциях\")\n",
    "plt.legend(title=\"Группа\")\n",
    "plot.set_xticklabels([\"Квадратичная\",  \n",
    "                      \"Квадратичная, где s=2e+13\",\n",
    "                      \"Полином степени 1.5\",                       \n",
    "                      \"Линейная\", \n",
    "                      \"Линейно-логарифмическая\"])\n",
    "plt.show()"
   ]
  }
 ],
 "metadata": {
  "kernelspec": {
   "display_name": "Python 3",
   "language": "python",
   "name": "python3"
  },
  "language_info": {
   "codemirror_mode": {
    "name": "ipython",
    "version": 3
   },
   "file_extension": ".py",
   "mimetype": "text/x-python",
   "name": "python",
   "nbconvert_exporter": "python",
   "pygments_lexer": "ipython3",
   "version": "3.5.2"
  }
 },
 "nbformat": 4,
 "nbformat_minor": 1
}
